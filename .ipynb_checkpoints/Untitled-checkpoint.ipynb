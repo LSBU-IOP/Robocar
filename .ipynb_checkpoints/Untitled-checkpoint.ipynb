{
 "cells": [
  {
   "cell_type": "code",
   "execution_count": null,
   "id": "1f57f29a-54c8-44ce-9df4-bcb1e51ba037",
   "metadata": {},
   "outputs": [],
   "source": [
    "%run robocar_functions.ipynb\n",
    "%matplotlib inline\n",
    "robocar = robotic_car()\n",
    "\n",
    "for i in range(4): # do this loop 4 times\n",
    "    robocar.drive(forward,10)\n",
    "    robocar.turn(right,90)\n",
    "\n",
    "robocar.simulate_new()\n",
    "    "
   ]
  }
 ],
 "metadata": {
  "kernelspec": {
   "display_name": "Python 3 (ipykernel)",
   "language": "python",
   "name": "python3"
  },
  "language_info": {
   "codemirror_mode": {
    "name": "ipython",
    "version": 3
   },
   "file_extension": ".py",
   "mimetype": "text/x-python",
   "name": "python",
   "nbconvert_exporter": "python",
   "pygments_lexer": "ipython3",
   "version": "3.9.13"
  }
 },
 "nbformat": 4,
 "nbformat_minor": 5
}

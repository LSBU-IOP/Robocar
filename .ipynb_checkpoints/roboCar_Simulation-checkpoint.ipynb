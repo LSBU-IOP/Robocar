{
 "cells": [
  {
   "cell_type": "code",
   "execution_count": null,
   "id": "f2f63ecc-f4a0-4b41-b785-547038d3c102",
   "metadata": {},
   "outputs": [],
   "source": [
    "%run robocar_functions.ipynb\n",
    "robocar = robotic_car()\n",
    "\n",
    "robocar.create_maze()\n",
    "robocar.drive(forward,17.5)\n",
    "robocar.turn(right,90)\n",
    "robocar.drive(forward,12.5)\n",
    "robocar.turn(right,90)\n",
    "robocar.drive(forward,15)\n",
    "robocar.turn(left,90)\n",
    "robocar.drive(forward,7.5)\n",
    "robocar.turn(left,45)\n",
    "robocar.drive(forward,17.5)\n",
    "robocar.turn(right,135)\n",
    "robocar.drive(forward,19)\n",
    "robocar.turn(right,90)\n",
    "robocar.drive(forward,15)\n",
    "\n",
    "robocar.simulate()"
   ]
  }
 ],
 "metadata": {
  "kernelspec": {
   "display_name": "Python 3 (ipykernel)",
   "language": "python",
   "name": "python3"
  },
  "language_info": {
   "codemirror_mode": {
    "name": "ipython",
    "version": 3
   },
   "file_extension": ".py",
   "mimetype": "text/x-python",
   "name": "python",
   "nbconvert_exporter": "python",
   "pygments_lexer": "ipython3",
   "version": "3.9.13"
  }
 },
 "nbformat": 4,
 "nbformat_minor": 5
}
